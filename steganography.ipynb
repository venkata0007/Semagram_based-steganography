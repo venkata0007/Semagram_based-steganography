{
  "cells": [
    {
      "cell_type": "code",
      "execution_count": 1,
      "metadata": {
        "colab": {
          "base_uri": "https://localhost:8080/"
        },
        "id": "pb-XzQ2xWOTA",
        "outputId": "07727983-25b9-4167-991c-9055c36ce334"
      },
      "outputs": [
        {
          "name": "stdout",
          "output_type": "stream",
          "text": [
            "Mounted at /content/drive\n"
          ]
        }
      ],
      "source": [
        "from google.colab import drive\n",
        "\n",
        "# Mount Google Drive\n",
        "drive.mount('/content/drive')"
      ]
    },
    {
      "cell_type": "code",
      "execution_count": 2,
      "metadata": {
        "colab": {
          "base_uri": "https://localhost:8080/"
        },
        "id": "FqyvIa5kHF3G",
        "outputId": "9be8f3ae-9c23-47c3-bfc9-b20b20e1675f"
      },
      "outputs": [
        {
          "name": "stdout",
          "output_type": "stream",
          "text": [
            "Looking in indexes: https://pypi.org/simple, https://us-python.pkg.dev/colab-wheels/public/simple/\n",
            "Collecting python-docx\n",
            "  Downloading python-docx-0.8.11.tar.gz (5.6 MB)\n",
            "\u001b[2K     \u001b[90m━━━━━━━━━━━━━━━━━━━━━━━━━━━━━━━━━━━━━━━━\u001b[0m \u001b[32m5.6/5.6 MB\u001b[0m \u001b[31m69.7 MB/s\u001b[0m eta \u001b[36m0:00:00\u001b[0m\n",
            "\u001b[?25h  Preparing metadata (setup.py) ... \u001b[?25l\u001b[?25hdone\n",
            "Requirement already satisfied: lxml>=2.3.2 in /usr/local/lib/python3.10/dist-packages (from python-docx) (4.9.2)\n",
            "Building wheels for collected packages: python-docx\n",
            "  Building wheel for python-docx (setup.py) ... \u001b[?25l\u001b[?25hdone\n",
            "  Created wheel for python-docx: filename=python_docx-0.8.11-py3-none-any.whl size=184505 sha256=2df5399f14179baa75122eb95b7bb2499a80c92f501c6441566b60e39418bf04\n",
            "  Stored in directory: /root/.cache/pip/wheels/80/27/06/837436d4c3bd989b957a91679966f207bfd71d358d63a8194d\n",
            "Successfully built python-docx\n",
            "Installing collected packages: python-docx\n",
            "Successfully installed python-docx-0.8.11\n"
          ]
        }
      ],
      "source": [
        "#read the file file.rtf by each character and assign each character a colour\n",
        "!pip install python-docx\n"
      ]
    },
    {
      "cell_type": "code",
      "execution_count": 30,
      "metadata": {
        "colab": {
          "base_uri": "https://localhost:8080/"
        },
        "id": "NtjtJosupSqy",
        "outputId": "789c049f-6ac9-48fe-88cb-b3a3f6654402"
      },
      "outputs": [
        {
          "name": "stdout",
          "output_type": "stream",
          "text": [
            "original_size: (2292, 3438)\n",
            "origial_height 3438\n",
            "original_width 2292\n"
          ]
        }
      ],
      "source": [
        "from PIL import Image\n",
        "import numpy as np\n",
        "# Open the image file\n",
        "img = Image.open(\"/content/drive/MyDrive/steganography/img1.jpg\")\n",
        "# get size of this image file\n",
        "width, height = img.size\n",
        "# just to verify proportions of the image\n",
        "print(\"original_size:\",img.size)\n",
        "print(\"origial_height\",height)\n",
        "print(\"original_width\", width)"
      ]
    },
    {
      "cell_type": "code",
      "execution_count": 31,
      "metadata": {
        "id": "7WiH0tEAXg5t"
      },
      "outputs": [],
      "source": [
        " # new dimensions of image that to be seen in the word file  adjust accordingly to the font size and font\n",
        "new_height = 500\n",
        "new_width = 600"
      ]
    },
    {
      "cell_type": "code",
      "execution_count": 33,
      "metadata": {
        "colab": {
          "base_uri": "https://localhost:8080/"
        },
        "id": "WxsP8Hk3pw0m",
        "outputId": "c0c602d8-7583-4556-c08f-7c0c8cc811e3"
      },
      "outputs": [
        {
          "name": "stdout",
          "output_type": "stream",
          "text": [
            "original_size: 2292 3438\n",
            "resized_size: (600, 500)\n"
          ]
        }
      ],
      "source": [
        "# Resize the image to a new size\n",
        "new_size = (new_width,new_height)  # (width, height)\n",
        "resized_img = img.resize(new_size)\n",
        "# Save the resized image\n",
        "resized_img.save(\"/content/drive/MyDrive/steganography/resized.jpg\")\n",
        "print(\"original_size:\",width,height)\n",
        "print(\"resized_size:\",resized_img.size)"
      ]
    },
    {
      "cell_type": "code",
      "execution_count": 34,
      "metadata": {
        "colab": {
          "base_uri": "https://localhost:8080/"
        },
        "id": "obEJk8xdV5y9",
        "outputId": "2ee90da5-7591-4534-fcd6-332e2cc62ffc"
      },
      "outputs": [
        {
          "name": "stdout",
          "output_type": "stream",
          "text": [
            "1472\n",
            "882704\n"
          ]
        }
      ],
      "source": [
        "\n",
        "from docx import Document\n",
        "\n",
        "document = Document('/content/drive/MyDrive/steganography/original.docx')\n",
        "\n",
        "# Create an empty list to store the text\n",
        "text_list = ''\n",
        "\n",
        "# Iterate over each paragraph in the document\n",
        "for paragraph in document.paragraphs:\n",
        "    # Append the paragraph's text to the list\n",
        "    text_list+= paragraph.text\n",
        "# Split the text into chunks of 264 characters including spaces\n",
        "text_chunks = []\n",
        "chunk = ''\n",
        "for char in text_list:\n",
        "    if len(chunk) < new_width:\n",
        "        chunk += char\n",
        "    else:\n",
        "        text_chunks.append(chunk)\n",
        "        chunk = char\n",
        "text_chunks.append(chunk)\n",
        "\n",
        "# Print the list of text chunks\n",
        "print(len(text_chunks))\n",
        "print(len(text_list))"
      ]
    },
    {
      "cell_type": "code",
      "execution_count": 35,
      "metadata": {
        "id": "KIT5xvmzACKd"
      },
      "outputs": [],
      "source": [
        "from PIL import Image\n",
        "# increase the brightness if our image isnt bright enough\n",
        "# Open the image\n",
        "img = Image.open('/content/drive/MyDrive/steganography/resized.jpg')\n",
        "\n",
        "# Get the width and height of the image\n",
        "width, height = img.size\n",
        "\n",
        "# Define the brightness factor (1.0 is unchanged)\n",
        "brightness = 1.5\n",
        "\n",
        "# Loop through all the pixels in the image and brighten the colors\n",
        "for x in range(width):\n",
        "    for y in range(height):\n",
        "        r, g, b = img.getpixel((x, y))\n",
        "        r = int(r * brightness)\n",
        "        g = int(g * brightness)\n",
        "        b = int(b * brightness)\n",
        "        img.putpixel((x, y), (r, g, b))\n",
        "\n",
        "# Save the modified image\n",
        "img.save('/content/drive/MyDrive/steganography/brightened_image.jpg')\n"
      ]
    },
    {
      "cell_type": "code",
      "execution_count": 36,
      "metadata": {
        "id": "jgXnh6ylYfbF"
      },
      "outputs": [],
      "source": [
        "\n",
        "img = Image.open(\"/content/drive/MyDrive/steganography/resized.jpg\")\n",
        "# get the pixel values\n",
        "pixels = img.load()\n",
        "# convert pixels to numpy array\n",
        "arr = np.array(img)\n",
        "# print(arr.shape) #to check if its in correct shape"
      ]
    },
    {
      "cell_type": "code",
      "execution_count": 15,
      "metadata": {
        "id": "IUGxDHC0t0Xk"
      },
      "outputs": [],
      "source": [
        "# print(len(text_chunks)) #to verify text file is sufficient for us or not to give colors"
      ]
    },
    {
      "cell_type": "code",
      "execution_count": 37,
      "metadata": {
        "id": "Yfoj-Z4jYtfp"
      },
      "outputs": [],
      "source": [
        "from docx import Document\n",
        "from docx.shared import RGBColor\n",
        "\n",
        "# Create a new document\n",
        "document = Document()\n",
        "\n",
        "# Iterate over each chunk of text\n",
        "for i in range(new_height):\n",
        "    chunk = text_chunks[i]\n",
        "    # Add a paragraph to the document with the colored text\n",
        "    paragraph = document.add_paragraph()\n",
        "     # Set the spacing before and after the paragraph to zero\n",
        "    paragraph_format = paragraph.paragraph_format\n",
        "    paragraph_format.space_before = 0\n",
        "    paragraph_format.space_after = 0\n",
        "\n",
        "    # Iterate over each character in the text chunk, adding colored text to the document\n",
        "    for j, char in enumerate(chunk):\n",
        "        run = paragraph.add_run(char)\n",
        "        font = run.font\n",
        "        font.name = 'Courier New'\n",
        "        font.size = 1\n",
        "        font.color.rgb = RGBColor(*pixels[j,i])\n",
        "    # paragraph.add_run('').font.size = 1\n",
        "# Save the document to a file\n",
        "document.save('/content/drive/MyDrive/steganography/colored_text.docx')"
      ]
    }
  ],
  "metadata": {
    "colab": {
      "provenance": []
    },
    "kernelspec": {
      "display_name": "Python 3",
      "name": "python3"
    },
    "language_info": {
      "name": "python"
    }
  },
  "nbformat": 4,
  "nbformat_minor": 0
}
